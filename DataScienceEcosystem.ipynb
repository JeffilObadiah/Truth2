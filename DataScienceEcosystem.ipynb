{
 "cells": [
  {
   "cell_type": "markdown",
   "id": "d4cd7def-65ef-454a-bcf4-bbfbf2c0fe8f",
   "metadata": {},
   "source": [
    "# Data Science Tools and Ecosystem\n"
   ]
  },
  {
   "cell_type": "markdown",
   "id": "7db4dad7-f5e1-4853-9831-aabbe749d5be",
   "metadata": {},
   "source": [
    "# Introduction\n",
    "\n",
    "In this notebook, Data Science Tools and Ecosystem are summarized. This notebook serves as a comprehensive overview of the tools and technologies commonly used in the field of data science. We will explore various programming languages, libraries, frameworks, and platforms that form the foundation of the data science ecosystem. Through this exploration, we aim to gain a deeper understanding of the tools available and their significance in enabling data-driven analysis, modeling, and decision-making. Whether you are new to data science or looking to expand your knowledge, this notebook will provide valuable insights into the tools that drive the field forward.\n",
    "\n",
    "*Note: This notebook is part of the Data Science Tools and Ecosystem course on Coursera.*\n"
   ]
  },
  {
   "cell_type": "markdown",
   "id": "c2c782e5-5860-4f31-8ae6-9da3c261c3e0",
   "metadata": {},
   "source": [
    "Some of the popular languages that Data Scientists use are:\n",
    "\n",
    "1. Python\n",
    "2. R\n",
    "3. Julia"
   ]
  },
  {
   "cell_type": "markdown",
   "id": "1ddf804c-d602-4305-abe5-50453cdcc14c",
   "metadata": {},
   "source": [
    "Some of the commonly used libraries used by Data Scientists include:\n",
    "\n",
    "1. NumPy\n",
    "2. Pandas\n",
    "3. Matplotlib"
   ]
  },
  {
   "cell_type": "markdown",
   "id": "b88884a0-1955-4ab5-8286-adb77e9f8c83",
   "metadata": {},
   "source": [
    "| Data Science Tools |\n",
    "| ------------------ |\n",
    "| Jupyter Notebook   |\n",
    "| RStudio            |\n",
    "| VS Code            |"
   ]
  },
  {
   "cell_type": "markdown",
   "id": "2c170763-45b5-4cb4-94f6-cb2f990e122a",
   "metadata": {},
   "source": [
    "### Examples of Evaluating Arithmetic Expressions in Python\n",
    "\n",
    "Below are a few examples of evaluating arithmetic expressions in Python:"
   ]
  },
  {
   "cell_type": "code",
   "execution_count": 1,
   "id": "c3daccab-ad67-4df0-a924-478f0768e4b5",
   "metadata": {
    "tags": []
   },
   "outputs": [
    {
     "name": "stdout",
     "output_type": "stream",
     "text": [
      "17\n"
     ]
    }
   ],
   "source": [
    "# This is a simple arithmetic expression to multiply then add integers.\n",
    "result = (3 * 4) + 5\n",
    "print(result)\n"
   ]
  },
  {
   "cell_type": "code",
   "execution_count": 2,
   "id": "49881de0-0a91-4737-ada2-a83baf4f9c4d",
   "metadata": {
    "tags": []
   },
   "outputs": [
    {
     "name": "stdout",
     "output_type": "stream",
     "text": [
      "3.3333333333333335\n"
     ]
    }
   ],
   "source": [
    "# This will convert 200 minutes to hours by dividing by 60.\n",
    "minutes = 200\n",
    "hours = minutes / 60\n",
    "print(hours)\n"
   ]
  },
  {
   "cell_type": "markdown",
   "id": "a771c824-b315-4ccb-9a61-31b9e678dbfe",
   "metadata": {},
   "source": [
    "###Objectives:\n",
    "\n",
    "* List popular languages for Data Science\n",
    "* Introduce arithmetic expression examples\n",
    "* Convert minutes to hours\n",
    "* Explore Data Science tools and libraries\n",
    "* Understand the Data Science ecosystem"
   ]
  },
  {
   "cell_type": "markdown",
   "id": "879d6353-0113-4511-b77f-053d36c7676e",
   "metadata": {},
   "source": [
    "#Objectives:\n",
    "\n",
    "List popular languages for Data Science\n",
    "Introduce arithmetic expression examples\n",
    "Convert minutes to hours\n",
    "Explore Data Science tools and libraries\n",
    "Understand the Data Science ecosystem"
   ]
  },
  {
   "cell_type": "markdown",
   "id": "6dc17bfa-ecb1-4beb-af3c-76f15ce68735",
   "metadata": {},
   "source": [
    "**Objectives:**\n",
    "\n",
    "* List popular languages for Data Science\n",
    "* Introduce arithmetic expression examples\n",
    "* Convert minutes to hours\n",
    "* Explore Data Science tools and libraries\n",
    "* Understand the Data Science ecosystem"
   ]
  },
  {
   "cell_type": "markdown",
   "id": "85ee81d0-5cc6-46bc-87fb-6e0d4fb0cf4e",
   "metadata": {},
   "source": [
    "## Author\n",
    "John Doe"
   ]
  },
  {
   "cell_type": "code",
   "execution_count": null,
   "id": "ba3b92ae-4c49-44ff-a7a4-538109b912f3",
   "metadata": {},
   "outputs": [],
   "source": []
  }
 ],
 "metadata": {
  "kernelspec": {
   "display_name": "Python",
   "language": "python",
   "name": "conda-env-python-py"
  },
  "language_info": {
   "codemirror_mode": {
    "name": "ipython",
    "version": 3
   },
   "file_extension": ".py",
   "mimetype": "text/x-python",
   "name": "python",
   "nbconvert_exporter": "python",
   "pygments_lexer": "ipython3",
   "version": "3.7.12"
  }
 },
 "nbformat": 4,
 "nbformat_minor": 5
}
